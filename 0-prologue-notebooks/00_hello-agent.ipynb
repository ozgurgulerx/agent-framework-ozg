{
 "cells": [
  {
   "cell_type": "markdown",
   "id": "b642b16d",
   "metadata": {},
   "source": [
    "# HELLO AGENT \n",
    "\n",
    "In this notebook we will create a simple LLM agent with the agent-framework\n"
   ]
  },
  {
   "cell_type": "code",
   "execution_count": null,
   "id": "94a5f089",
   "metadata": {},
   "outputs": [],
   "source": [
    "## Creating a basic agent - Install dependencies \n",
    "%pip install agent-framework\n"
   ]
  },
  {
   "cell_type": "markdown",
   "id": "736420c4",
   "metadata": {},
   "source": [
    "## How is Agent Framework Python API different from \n",
    "\n",
    "### Async First API\n",
    "Agent Framework’s Python API is async-first—methods like agent.run() return coroutines—whereas classic Semantic Kernel patterns leaned on synchronous Invoke/chat-completions wrapped in a Kernel. Making AF async by default brings practical wins: non-blocking network I/O (your notebook or app stays responsive), native streaming of tokens/events, easy concurrency (fan-out tool calls or multiple agents in parallel), and cleaner integration with modern event loops (web backends, UIs, Jupyter’s top-level await). The result is lower perceived latency, better throughput under load, and more robust multi-agent orchestration without hacks—plus you can surface real-time progress (traces/updates) while work continues instead of freezing the UI."
   ]
  },
  {
   "cell_type": "code",
   "execution_count": null,
   "id": "25617e82",
   "metadata": {},
   "outputs": [
    {
     "ename": "NameError",
     "evalue": "name 'run_sync' is not defined",
     "output_type": "error",
     "traceback": [
      "\u001b[31m---------------------------------------------------------------------------\u001b[39m",
      "\u001b[31mNameError\u001b[39m                                 Traceback (most recent call last)",
      "\u001b[36mCell\u001b[39m\u001b[36m \u001b[39m\u001b[32mIn[8]\u001b[39m\u001b[32m, line 23\u001b[39m\n\u001b[32m     19\u001b[39m     answer =  run_sync(agent.run(\u001b[33m\"\u001b[39m\u001b[33mAre we in a blackhole?\u001b[39m\u001b[33m\"\u001b[39m))\n\u001b[32m     20\u001b[39m     \u001b[38;5;28;01mreturn\u001b[39;00m answer\n\u001b[32m---> \u001b[39m\u001b[32m23\u001b[39m \u001b[38;5;28mprint\u001b[39m(\u001b[43mask_physics\u001b[49m\u001b[43m(\u001b[49m\u001b[43m)\u001b[49m)\n",
      "\u001b[36mCell\u001b[39m\u001b[36m \u001b[39m\u001b[32mIn[8]\u001b[39m\u001b[32m, line 19\u001b[39m, in \u001b[36mask_physics\u001b[39m\u001b[34m()\u001b[39m\n\u001b[32m      7\u001b[39m \u001b[38;5;28;01mdef\u001b[39;00m\u001b[38;5;250m \u001b[39m\u001b[34mask_physics\u001b[39m():\n\u001b[32m      8\u001b[39m     agent = AzureOpenAIResponsesClient(\n\u001b[32m      9\u001b[39m     endpoint = os.environ[\u001b[33m\"\u001b[39m\u001b[33mAZURE_OPENAI_ENDPOINT\u001b[39m\u001b[33m\"\u001b[39m],\n\u001b[32m     10\u001b[39m     deployment_name = os.environ[\u001b[33m\"\u001b[39m\u001b[33mAZURE_OPENAI_DEPLOYMENT_NAME\u001b[39m\u001b[33m\"\u001b[39m],\n\u001b[32m   (...)\u001b[39m\u001b[32m     15\u001b[39m         instructions=\u001b[33m\"\u001b[39m\u001b[33mYou are a leading astrophysicist\u001b[39m\u001b[33m\"\u001b[39m,\n\u001b[32m     16\u001b[39m     )\n\u001b[32m---> \u001b[39m\u001b[32m19\u001b[39m     answer =  \u001b[43mrun_sync\u001b[49m(agent.run(\u001b[33m\"\u001b[39m\u001b[33mAre we in a blackhole?\u001b[39m\u001b[33m\"\u001b[39m))\n\u001b[32m     20\u001b[39m     \u001b[38;5;28;01mreturn\u001b[39;00m answer\n",
      "\u001b[31mNameError\u001b[39m: name 'run_sync' is not defined"
     ]
    }
   ],
   "source": [
    "import os\n",
    "import asyncio\n",
    "from sys import api_version\n",
    "\n",
    "from agent_framework.azure import AzureOpenAIResponsesClient\n",
    "\n",
    "def ask_physics():\n",
    "    agent = AzureOpenAIResponsesClient(\n",
    "    endpoint = os.environ[\"AZURE_OPENAI_ENDPOINT\"],\n",
    "    deployment_name = os.environ[\"AZURE_OPENAI_DEPLOYMENT_NAME\"],\n",
    "    api_version = os.environ[\"AZURE_OPENAI_API_VERSION\"],\n",
    "    api_key = os.environ[\"AZURE_OPENAI_API_KEY\"],\n",
    "    ).create_agent(\n",
    "        name = \"firstbot\",\n",
    "        instructions=\"You are a leading astrophysicist\",\n",
    "    )\n",
    "\n",
    "    \n",
    "    answer =  ragent.run(\"Are we in a blackhole?\")\n",
    "    return answer\n",
    "\n",
    "\n",
    "print(ask_physics())\n",
    "    \n",
    "\n",
    "\n"
   ]
  }
 ],
 "metadata": {
  "kernelspec": {
   "display_name": "venv",
   "language": "python",
   "name": "python3"
  },
  "language_info": {
   "codemirror_mode": {
    "name": "ipython",
    "version": 3
   },
   "file_extension": ".py",
   "mimetype": "text/x-python",
   "name": "python",
   "nbconvert_exporter": "python",
   "pygments_lexer": "ipython3",
   "version": "3.12.11"
  }
 },
 "nbformat": 4,
 "nbformat_minor": 5
}
